{
  "nbformat": 4,
  "nbformat_minor": 0,
  "metadata": {
    "colab": {
      "name": "DataCleaning.ipynb",
      "provenance": [],
      "toc_visible": true,
      "mount_file_id": "1wtupnTMQDy1Q_4xyD6RVOURRD5fSEpGU",
      "authorship_tag": "ABX9TyPjjG9TjC9DvqjLJUU+FCMC"
    },
    "kernelspec": {
      "name": "python3",
      "display_name": "Python 3"
    }
  },
  "cells": [
    {
      "cell_type": "markdown",
      "metadata": {
        "id": "TFwxwopO4F8a",
        "colab_type": "text"
      },
      "source": [
        "# Data Cleaning"
      ]
    },
    {
      "cell_type": "markdown",
      "metadata": {
        "id": "GCjBzhV787RD",
        "colab_type": "text"
      },
      "source": [
        "## Importing libraries"
      ]
    },
    {
      "cell_type": "code",
      "metadata": {
        "id": "tPOoVBAuui-0",
        "colab_type": "code",
        "colab": {}
      },
      "source": [
        "import re\n",
        "import numpy as np"
      ],
      "execution_count": 0,
      "outputs": []
    },
    {
      "cell_type": "markdown",
      "metadata": {
        "id": "Gupbi3Q48i60",
        "colab_type": "text"
      },
      "source": [
        "## 1) Reading data from file"
      ]
    },
    {
      "cell_type": "code",
      "metadata": {
        "id": "OQoXu7edxs6p",
        "colab_type": "code",
        "colab": {}
      },
      "source": [
        "# For novel\n",
        "\n",
        "with open('drive/My Drive/Pytorch_DataSet/Ghost_Writer/paragraph.txt') as f:\n",
        "  novel = f.readlines()\n",
        "\n",
        "# For questions\n",
        "\n",
        "with open('drive/My Drive/Pytorch_DataSet/Ghost_Writer/questions.txt') as f:\n",
        "  questions = f.readlines()\n",
        "\n",
        "# For answers\n",
        "\n",
        "with open('drive/My Drive/Pytorch_DataSet/Ghost_Writer/answer.txt') as f:\n",
        "  answers = f.readlines()"
      ],
      "execution_count": 0,
      "outputs": []
    },
    {
      "cell_type": "code",
      "metadata": {
        "id": "_ko1F8-5JwVe",
        "colab_type": "code",
        "colab": {
          "base_uri": "https://localhost:8080/",
          "height": 34
        },
        "outputId": "c20101be-15a0-4e39-9a78-154536d0bcef"
      },
      "source": [
        "len(novel), len(questions), len(answers)"
      ],
      "execution_count": 3,
      "outputs": [
        {
          "output_type": "execute_result",
          "data": {
            "text/plain": [
              "(112, 112, 112)"
            ]
          },
          "metadata": {
            "tags": []
          },
          "execution_count": 3
        }
      ]
    },
    {
      "cell_type": "code",
      "metadata": {
        "id": "WzwgQ8Tcylro",
        "colab_type": "code",
        "outputId": "e534a97c-d956-4569-f7f4-5091224a228d",
        "colab": {
          "base_uri": "https://localhost:8080/",
          "height": 34
        }
      },
      "source": [
        "# Checking datatype of questions variable\n",
        "\n",
        "type(questions) "
      ],
      "execution_count": 4,
      "outputs": [
        {
          "output_type": "execute_result",
          "data": {
            "text/plain": [
              "list"
            ]
          },
          "metadata": {
            "tags": []
          },
          "execution_count": 4
        }
      ]
    },
    {
      "cell_type": "code",
      "metadata": {
        "id": "vVLcdDIjyx_E",
        "colab_type": "code",
        "outputId": "a3916949-c34d-407b-a08b-fdf656939e2f",
        "colab": {
          "base_uri": "https://localhost:8080/",
          "height": 34
        }
      },
      "source": [
        "questions[0]"
      ],
      "execution_count": 5,
      "outputs": [
        {
          "output_type": "execute_result",
          "data": {
            "text/plain": [
              "'was world being watched by Martians ?\\n'"
            ]
          },
          "metadata": {
            "tags": []
          },
          "execution_count": 5
        }
      ]
    },
    {
      "cell_type": "code",
      "metadata": {
        "id": "TPe0S-HozDat",
        "colab_type": "code",
        "outputId": "1175bb01-c684-4590-f428-5b4639737f84",
        "colab": {
          "base_uri": "https://localhost:8080/",
          "height": 221
        }
      },
      "source": [
        "questions[1].split()"
      ],
      "execution_count": 6,
      "outputs": [
        {
          "output_type": "execute_result",
          "data": {
            "text/plain": [
              "['Are',\n",
              " 'we',\n",
              " 'as',\n",
              " 'lowely',\n",
              " 'to',\n",
              " 'martians',\n",
              " 'as',\n",
              " 'martians',\n",
              " 'are',\n",
              " 'to',\n",
              " 'us',\n",
              " '?']"
            ]
          },
          "metadata": {
            "tags": []
          },
          "execution_count": 6
        }
      ]
    },
    {
      "cell_type": "code",
      "metadata": {
        "id": "PA1sPUpTzJDA",
        "colab_type": "code",
        "outputId": "d0b0e676-ed7d-4e88-ffa4-9fd89cbb5d28",
        "colab": {
          "base_uri": "https://localhost:8080/",
          "height": 34
        }
      },
      "source": [
        "len(novel)"
      ],
      "execution_count": 7,
      "outputs": [
        {
          "output_type": "execute_result",
          "data": {
            "text/plain": [
              "112"
            ]
          },
          "metadata": {
            "tags": []
          },
          "execution_count": 7
        }
      ]
    },
    {
      "cell_type": "code",
      "metadata": {
        "id": "IrLNNBrQpZx4",
        "colab_type": "code",
        "colab": {}
      },
      "source": [
        "#novel[0].split()"
      ],
      "execution_count": 0,
      "outputs": []
    },
    {
      "cell_type": "markdown",
      "metadata": {
        "id": "fSL5kzqz9GyE",
        "colab_type": "text"
      },
      "source": [
        "## 2) Converting novel paragraph into our own format"
      ]
    },
    {
      "cell_type": "code",
      "metadata": {
        "id": "m0-Yd7r9xFqY",
        "colab_type": "code",
        "colab": {}
      },
      "source": [
        "paras = list()"
      ],
      "execution_count": 0,
      "outputs": []
    },
    {
      "cell_type": "code",
      "metadata": {
        "id": "OH92ui8xui8I",
        "colab_type": "code",
        "colab": {}
      },
      "source": [
        "for line in novel:\n",
        "  paras.append(re.findall(r\"[\\w']+|[.,!?;]\", line.lower()))"
      ],
      "execution_count": 0,
      "outputs": []
    },
    {
      "cell_type": "code",
      "metadata": {
        "id": "0Hj1Dg5Oui6O",
        "colab_type": "code",
        "outputId": "33671142-4038-4754-f744-7ab040ab41d6",
        "colab": {
          "base_uri": "https://localhost:8080/",
          "height": 34
        }
      },
      "source": [
        "len(paras)"
      ],
      "execution_count": 11,
      "outputs": [
        {
          "output_type": "execute_result",
          "data": {
            "text/plain": [
              "112"
            ]
          },
          "metadata": {
            "tags": []
          },
          "execution_count": 11
        }
      ]
    },
    {
      "cell_type": "code",
      "metadata": {
        "id": "Ee-5ADoRui3i",
        "colab_type": "code",
        "colab": {}
      },
      "source": [
        "#paras"
      ],
      "execution_count": 0,
      "outputs": []
    },
    {
      "cell_type": "markdown",
      "metadata": {
        "id": "DcZMCo169U9_",
        "colab_type": "text"
      },
      "source": [
        "## 3) Converting questions into our own format"
      ]
    },
    {
      "cell_type": "code",
      "metadata": {
        "id": "RKmJ05UVuizC",
        "colab_type": "code",
        "outputId": "8672609c-046a-486e-d877-81dd21d51bdc",
        "colab": {
          "base_uri": "https://localhost:8080/",
          "height": 51
        }
      },
      "source": [
        "print(questions[0])"
      ],
      "execution_count": 13,
      "outputs": [
        {
          "output_type": "stream",
          "text": [
            "was world being watched by Martians ?\n",
            "\n"
          ],
          "name": "stdout"
        }
      ]
    },
    {
      "cell_type": "code",
      "metadata": {
        "id": "xCVewxzkzEHF",
        "colab_type": "code",
        "colab": {}
      },
      "source": [
        "que = list()"
      ],
      "execution_count": 0,
      "outputs": []
    },
    {
      "cell_type": "code",
      "metadata": {
        "id": "QPNXPAYauiwX",
        "colab_type": "code",
        "colab": {}
      },
      "source": [
        "for line in questions:\n",
        "  que.append(re.findall(r\"[\\w']+|[.,!?;]\", line.lower()))"
      ],
      "execution_count": 0,
      "outputs": []
    },
    {
      "cell_type": "code",
      "metadata": {
        "id": "9KNs7QE7Loy0",
        "colab_type": "code",
        "colab": {
          "base_uri": "https://localhost:8080/",
          "height": 34
        },
        "outputId": "569fb030-3bb8-49a4-c117-6c77c6bb6b72"
      },
      "source": [
        "len(que)"
      ],
      "execution_count": 16,
      "outputs": [
        {
          "output_type": "execute_result",
          "data": {
            "text/plain": [
              "112"
            ]
          },
          "metadata": {
            "tags": []
          },
          "execution_count": 16
        }
      ]
    },
    {
      "cell_type": "code",
      "metadata": {
        "id": "vbs7CFyruiu5",
        "colab_type": "code",
        "colab": {}
      },
      "source": [
        "#que"
      ],
      "execution_count": 0,
      "outputs": []
    },
    {
      "cell_type": "markdown",
      "metadata": {
        "id": "gOpT7Z4B9bR6",
        "colab_type": "text"
      },
      "source": [
        "## 4) Converting answers into our own format"
      ]
    },
    {
      "cell_type": "code",
      "metadata": {
        "id": "U35ztti2ui17",
        "colab_type": "code",
        "outputId": "14d45a88-20e4-4496-f5da-289f13b64776",
        "colab": {
          "base_uri": "https://localhost:8080/",
          "height": 51
        }
      },
      "source": [
        "print(answers[0])"
      ],
      "execution_count": 18,
      "outputs": [
        {
          "output_type": "stream",
          "text": [
            "yes\n",
            "\n"
          ],
          "name": "stdout"
        }
      ]
    },
    {
      "cell_type": "code",
      "metadata": {
        "id": "N-qAohJN0Pf6",
        "colab_type": "code",
        "outputId": "c48c1392-6487-458a-ac50-223ce897f252",
        "colab": {
          "base_uri": "https://localhost:8080/",
          "height": 51
        }
      },
      "source": [
        "print(answers[0])"
      ],
      "execution_count": 19,
      "outputs": [
        {
          "output_type": "stream",
          "text": [
            "yes\n",
            "\n"
          ],
          "name": "stdout"
        }
      ]
    },
    {
      "cell_type": "code",
      "metadata": {
        "id": "MyxHijobuirb",
        "colab_type": "code",
        "colab": {}
      },
      "source": [
        "ans = list()"
      ],
      "execution_count": 0,
      "outputs": []
    },
    {
      "cell_type": "code",
      "metadata": {
        "id": "CVqGSUhduipf",
        "colab_type": "code",
        "colab": {}
      },
      "source": [
        "for line in answers:\n",
        "  l = line.rstrip(\"\\n\")\n",
        "  ans.append(l.strip())"
      ],
      "execution_count": 0,
      "outputs": []
    },
    {
      "cell_type": "code",
      "metadata": {
        "id": "g3u8y6xcLsVZ",
        "colab_type": "code",
        "colab": {
          "base_uri": "https://localhost:8080/",
          "height": 34
        },
        "outputId": "353f918b-f362-441c-b73b-27cd1fa22ef6"
      },
      "source": [
        "len(ans)"
      ],
      "execution_count": 22,
      "outputs": [
        {
          "output_type": "execute_result",
          "data": {
            "text/plain": [
              "112"
            ]
          },
          "metadata": {
            "tags": []
          },
          "execution_count": 22
        }
      ]
    },
    {
      "cell_type": "code",
      "metadata": {
        "id": "z4LyVGs8uim_",
        "colab_type": "code",
        "colab": {}
      },
      "source": [
        "#ans"
      ],
      "execution_count": 0,
      "outputs": []
    },
    {
      "cell_type": "code",
      "metadata": {
        "id": "y0M31W-4uie2",
        "colab_type": "code",
        "outputId": "7c546c4a-fc8c-43c2-a04c-4d198dffdd47",
        "colab": {
          "base_uri": "https://localhost:8080/",
          "height": 34
        }
      },
      "source": [
        "type(ans)"
      ],
      "execution_count": 24,
      "outputs": [
        {
          "output_type": "execute_result",
          "data": {
            "text/plain": [
              "list"
            ]
          },
          "metadata": {
            "tags": []
          },
          "execution_count": 24
        }
      ]
    },
    {
      "cell_type": "markdown",
      "metadata": {
        "id": "eSH4qgev9k8v",
        "colab_type": "text"
      },
      "source": [
        "## 5) Checking length of original vs our formatted data"
      ]
    },
    {
      "cell_type": "code",
      "metadata": {
        "id": "6cKJrxu1zhe3",
        "colab_type": "code",
        "outputId": "b8941540-cf13-4913-d267-f8d5d405aa00",
        "colab": {
          "base_uri": "https://localhost:8080/",
          "height": 34
        }
      },
      "source": [
        "len(questions) , len(answers) , len(novel)"
      ],
      "execution_count": 25,
      "outputs": [
        {
          "output_type": "execute_result",
          "data": {
            "text/plain": [
              "(112, 112, 112)"
            ]
          },
          "metadata": {
            "tags": []
          },
          "execution_count": 25
        }
      ]
    },
    {
      "cell_type": "code",
      "metadata": {
        "id": "QXxdnxx43x0F",
        "colab_type": "code",
        "outputId": "374b8a58-9cd4-4820-f7f4-bff9171aa3fc",
        "colab": {
          "base_uri": "https://localhost:8080/",
          "height": 34
        }
      },
      "source": [
        "len(paras) , len(ans) , len(que)"
      ],
      "execution_count": 26,
      "outputs": [
        {
          "output_type": "execute_result",
          "data": {
            "text/plain": [
              "(112, 112, 112)"
            ]
          },
          "metadata": {
            "tags": []
          },
          "execution_count": 26
        }
      ]
    },
    {
      "cell_type": "markdown",
      "metadata": {
        "id": "Z-XNBOl89sJz",
        "colab_type": "text"
      },
      "source": [
        "## 6) Creating original usable data"
      ]
    },
    {
      "cell_type": "code",
      "metadata": {
        "id": "FezgMRDE0ArQ",
        "colab_type": "code",
        "colab": {}
      },
      "source": [
        "train_data = list()\n",
        "\n",
        "for i in range(len(paras)):\n",
        "  a = (paras[i],que[i],ans[i])\n",
        "  train_data.append(a)"
      ],
      "execution_count": 0,
      "outputs": []
    },
    {
      "cell_type": "code",
      "metadata": {
        "id": "5xgOSE0hAixM",
        "colab_type": "code",
        "colab": {}
      },
      "source": [
        "data = train_data"
      ],
      "execution_count": 0,
      "outputs": []
    },
    {
      "cell_type": "code",
      "metadata": {
        "id": "E5hxiRlG2BvS",
        "colab_type": "code",
        "outputId": "713c65d1-7427-4ff4-8995-931831b05279",
        "colab": {
          "base_uri": "https://localhost:8080/",
          "height": 34
        }
      },
      "source": [
        "len(train_data)"
      ],
      "execution_count": 29,
      "outputs": [
        {
          "output_type": "execute_result",
          "data": {
            "text/plain": [
              "112"
            ]
          },
          "metadata": {
            "tags": []
          },
          "execution_count": 29
        }
      ]
    },
    {
      "cell_type": "code",
      "metadata": {
        "id": "ffei93452mQl",
        "colab_type": "code",
        "outputId": "380eccd6-c3d1-41cd-8359-6e399193d9c2",
        "colab": {
          "base_uri": "https://localhost:8080/",
          "height": 1000
        }
      },
      "source": [
        "train_data[0]"
      ],
      "execution_count": 30,
      "outputs": [
        {
          "output_type": "execute_result",
          "data": {
            "text/plain": [
              "(['the',\n",
              "  'coming',\n",
              "  'of',\n",
              "  'the',\n",
              "  'martians',\n",
              "  'no',\n",
              "  'one',\n",
              "  'would',\n",
              "  'have',\n",
              "  'believed',\n",
              "  'in',\n",
              "  'the',\n",
              "  'last',\n",
              "  'years',\n",
              "  'of',\n",
              "  'the',\n",
              "  'nineteenth',\n",
              "  'century',\n",
              "  'that',\n",
              "  'this',\n",
              "  'world',\n",
              "  'was',\n",
              "  'being',\n",
              "  'watched',\n",
              "  'by',\n",
              "  'martians',\n",
              "  'and',\n",
              "  'yet',\n",
              "  'as',\n",
              "  'mortal',\n",
              "  'as',\n",
              "  'his',\n",
              "  'own',\n",
              "  ';',\n",
              "  'that',\n",
              "  'as',\n",
              "  'men',\n",
              "  'busied',\n",
              "  'themselves',\n",
              "  'about',\n",
              "  'their',\n",
              "  'various',\n",
              "  'concerns',\n",
              "  'they',\n",
              "  'were',\n",
              "  'scrutinised',\n",
              "  'and',\n",
              "  'studied',\n",
              "  ',',\n",
              "  'perhaps',\n",
              "  'almost',\n",
              "  'as',\n",
              "  'narrowly',\n",
              "  'as',\n",
              "  'a',\n",
              "  'man',\n",
              "  'with',\n",
              "  'a',\n",
              "  'microscope',\n",
              "  'might',\n",
              "  'scrutinise',\n",
              "  'the',\n",
              "  'transient',\n",
              "  'creatures',\n",
              "  'that',\n",
              "  'swarm',\n",
              "  'and',\n",
              "  'multiply',\n",
              "  'in',\n",
              "  'a',\n",
              "  'drop',\n",
              "  'of',\n",
              "  'water',\n",
              "  '.'],\n",
              " ['was', 'world', 'being', 'watched', 'by', 'martians', '?'],\n",
              " 'yes')"
            ]
          },
          "metadata": {
            "tags": []
          },
          "execution_count": 30
        }
      ]
    },
    {
      "cell_type": "code",
      "metadata": {
        "id": "4CEX5_nsAZm7",
        "colab_type": "code",
        "colab": {}
      },
      "source": [
        "test_data = data[100:]\n",
        "train_data = data[:100]"
      ],
      "execution_count": 0,
      "outputs": []
    },
    {
      "cell_type": "markdown",
      "metadata": {
        "id": "-tiuyMAT-jfy",
        "colab_type": "text"
      },
      "source": [
        "## 7) Saving our data to a file for easy readability"
      ]
    },
    {
      "cell_type": "code",
      "metadata": {
        "id": "JpmDakJs2ooO",
        "colab_type": "code",
        "colab": {}
      },
      "source": [
        "import pickle\n",
        "\n",
        "pickle_out = open(\"train_qa.txt\",\"wb\")\n",
        "pickle.dump(train_data, pickle_out)\n",
        "pickle_out.close()"
      ],
      "execution_count": 0,
      "outputs": []
    },
    {
      "cell_type": "code",
      "metadata": {
        "id": "iiTa3beK_JFj",
        "colab_type": "code",
        "colab": {}
      },
      "source": [
        "pickle_in = open(\"train_qa.txt\",\"rb\")\n",
        "train_data = pickle.load(pickle_in)"
      ],
      "execution_count": 0,
      "outputs": []
    },
    {
      "cell_type": "code",
      "metadata": {
        "id": "LBosDinC_b_R",
        "colab_type": "code",
        "outputId": "f8a9c267-f57b-4e13-ca43-1cf7ee5453a2",
        "colab": {
          "base_uri": "https://localhost:8080/",
          "height": 34
        }
      },
      "source": [
        "print(type(train_data))"
      ],
      "execution_count": 34,
      "outputs": [
        {
          "output_type": "stream",
          "text": [
            "<class 'list'>\n"
          ],
          "name": "stdout"
        }
      ]
    },
    {
      "cell_type": "code",
      "metadata": {
        "id": "PTQOkh0P_dy1",
        "colab_type": "code",
        "outputId": "4fa5f61b-5594-4e9f-8687-bae2d30212e8",
        "colab": {
          "base_uri": "https://localhost:8080/",
          "height": 34
        }
      },
      "source": [
        "print(type(train_data[0]))"
      ],
      "execution_count": 35,
      "outputs": [
        {
          "output_type": "stream",
          "text": [
            "<class 'tuple'>\n"
          ],
          "name": "stdout"
        }
      ]
    },
    {
      "cell_type": "code",
      "metadata": {
        "id": "WuFMD3FW__mQ",
        "colab_type": "code",
        "colab": {}
      },
      "source": [
        "pickle_out = open(\"test_qa.txt\",\"wb\")\n",
        "pickle.dump(test_data, pickle_out)\n",
        "pickle_out.close()"
      ],
      "execution_count": 0,
      "outputs": []
    },
    {
      "cell_type": "code",
      "metadata": {
        "id": "kfHau25yAvKq",
        "colab_type": "code",
        "colab": {}
      },
      "source": [
        "pickle_in = open(\"test_qa.txt\",\"rb\")\n",
        "test_data = pickle.load(pickle_in)"
      ],
      "execution_count": 0,
      "outputs": []
    },
    {
      "cell_type": "code",
      "metadata": {
        "id": "pepaNzIDAzgv",
        "colab_type": "code",
        "outputId": "fb9a1a2d-9414-4f6a-ada3-beb04a120220",
        "colab": {
          "base_uri": "https://localhost:8080/",
          "height": 34
        }
      },
      "source": [
        "print(type(test_data))"
      ],
      "execution_count": 38,
      "outputs": [
        {
          "output_type": "stream",
          "text": [
            "<class 'list'>\n"
          ],
          "name": "stdout"
        }
      ]
    },
    {
      "cell_type": "code",
      "metadata": {
        "id": "MYGhUc-eA3pS",
        "colab_type": "code",
        "outputId": "93e08d4c-714e-4a3c-ab7b-d627d4c7643c",
        "colab": {
          "base_uri": "https://localhost:8080/",
          "height": 34
        }
      },
      "source": [
        "print(type(test_data[0]))"
      ],
      "execution_count": 39,
      "outputs": [
        {
          "output_type": "stream",
          "text": [
            "<class 'tuple'>\n"
          ],
          "name": "stdout"
        }
      ]
    },
    {
      "cell_type": "code",
      "metadata": {
        "id": "2O9cvwGnbzJn",
        "colab_type": "code",
        "colab": {}
      },
      "source": [
        ""
      ],
      "execution_count": 0,
      "outputs": []
    }
  ]
}