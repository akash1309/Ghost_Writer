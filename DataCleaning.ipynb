{
  "nbformat": 4,
  "nbformat_minor": 0,
  "metadata": {
    "colab": {
      "name": "DataCleaning.ipynb",
      "provenance": [],
      "mount_file_id": "1wtupnTMQDy1Q_4xyD6RVOURRD5fSEpGU",
      "authorship_tag": "ABX9TyNxntH9q/q8vIm76uD20WDF"
    },
    "kernelspec": {
      "name": "python3",
      "display_name": "Python 3"
    }
  },
  "cells": [
    {
      "cell_type": "markdown",
      "metadata": {
        "id": "TFwxwopO4F8a",
        "colab_type": "text"
      },
      "source": [
        "# Data Cleaning"
      ]
    },
    {
      "cell_type": "markdown",
      "metadata": {
        "id": "GCjBzhV787RD",
        "colab_type": "text"
      },
      "source": [
        "## Importing libraries"
      ]
    },
    {
      "cell_type": "code",
      "metadata": {
        "id": "tPOoVBAuui-0",
        "colab_type": "code",
        "colab": {}
      },
      "source": [
        "import re\n",
        "import numpy as np"
      ],
      "execution_count": 0,
      "outputs": []
    },
    {
      "cell_type": "markdown",
      "metadata": {
        "id": "Gupbi3Q48i60",
        "colab_type": "text"
      },
      "source": [
        "## 1) Reading data from file"
      ]
    },
    {
      "cell_type": "code",
      "metadata": {
        "id": "OQoXu7edxs6p",
        "colab_type": "code",
        "colab": {}
      },
      "source": [
        "# For novel\n",
        "\n",
        "with open('drive/My Drive/Pytorch_DataSet/Ghost_Writer/paragraph.txt') as f:\n",
        "  novel = f.readlines()\n",
        "\n",
        "# For questions\n",
        "\n",
        "with open('drive/My Drive/Pytorch_DataSet/Ghost_Writer/questions.txt') as f:\n",
        "  questions = f.readlines()\n",
        "\n",
        "# For answers\n",
        "\n",
        "with open('drive/My Drive/Pytorch_DataSet/Ghost_Writer/answer.txt') as f:\n",
        "  answers = f.readlines()"
      ],
      "execution_count": 0,
      "outputs": []
    },
    {
      "cell_type": "code",
      "metadata": {
        "id": "WzwgQ8Tcylro",
        "colab_type": "code",
        "outputId": "62d60b97-89ca-4c38-ba66-6ffa05f3c1b7",
        "colab": {
          "base_uri": "https://localhost:8080/",
          "height": 34
        }
      },
      "source": [
        "# Checking datatype of questions variable\n",
        "\n",
        "type(questions) "
      ],
      "execution_count": 3,
      "outputs": [
        {
          "output_type": "execute_result",
          "data": {
            "text/plain": [
              "list"
            ]
          },
          "metadata": {
            "tags": []
          },
          "execution_count": 3
        }
      ]
    },
    {
      "cell_type": "code",
      "metadata": {
        "id": "vVLcdDIjyx_E",
        "colab_type": "code",
        "outputId": "59844d9d-1ed0-4d20-d1b5-aab1d05bfd0e",
        "colab": {
          "base_uri": "https://localhost:8080/",
          "height": 34
        }
      },
      "source": [
        "questions[0]"
      ],
      "execution_count": 4,
      "outputs": [
        {
          "output_type": "execute_result",
          "data": {
            "text/plain": [
              "'What was watching humanity ?\\n'"
            ]
          },
          "metadata": {
            "tags": []
          },
          "execution_count": 4
        }
      ]
    },
    {
      "cell_type": "code",
      "metadata": {
        "id": "TPe0S-HozDat",
        "colab_type": "code",
        "outputId": "19509c10-623f-4344-a501-38e2a082b659",
        "colab": {
          "base_uri": "https://localhost:8080/",
          "height": 255
        }
      },
      "source": [
        "questions[1].split()"
      ],
      "execution_count": 5,
      "outputs": [
        {
          "output_type": "execute_result",
          "data": {
            "text/plain": [
              "['To',\n",
              " 'what',\n",
              " 'does',\n",
              " 'the',\n",
              " 'narrator',\n",
              " 'compare',\n",
              " 'humans',\n",
              " 'in',\n",
              " 'the',\n",
              " 'minds',\n",
              " 'of',\n",
              " 'the',\n",
              " 'Martians',\n",
              " '?']"
            ]
          },
          "metadata": {
            "tags": []
          },
          "execution_count": 5
        }
      ]
    },
    {
      "cell_type": "code",
      "metadata": {
        "id": "PA1sPUpTzJDA",
        "colab_type": "code",
        "outputId": "51d44c25-7bb2-48df-f724-141d6fba6045",
        "colab": {
          "base_uri": "https://localhost:8080/",
          "height": 34
        }
      },
      "source": [
        "len(novel)"
      ],
      "execution_count": 6,
      "outputs": [
        {
          "output_type": "execute_result",
          "data": {
            "text/plain": [
              "114"
            ]
          },
          "metadata": {
            "tags": []
          },
          "execution_count": 6
        }
      ]
    },
    {
      "cell_type": "code",
      "metadata": {
        "id": "IrLNNBrQpZx4",
        "colab_type": "code",
        "colab": {}
      },
      "source": [
        "#novel[0].split()"
      ],
      "execution_count": 0,
      "outputs": []
    },
    {
      "cell_type": "markdown",
      "metadata": {
        "id": "fSL5kzqz9GyE",
        "colab_type": "text"
      },
      "source": [
        "## 2) Converting novel paragraph into our own format"
      ]
    },
    {
      "cell_type": "code",
      "metadata": {
        "id": "m0-Yd7r9xFqY",
        "colab_type": "code",
        "colab": {}
      },
      "source": [
        "paras = list()"
      ],
      "execution_count": 0,
      "outputs": []
    },
    {
      "cell_type": "code",
      "metadata": {
        "id": "OH92ui8xui8I",
        "colab_type": "code",
        "colab": {}
      },
      "source": [
        "for line in novel:\n",
        "  paras.append(re.findall(r\"[\\w']+|[.,!?;]\", line))"
      ],
      "execution_count": 0,
      "outputs": []
    },
    {
      "cell_type": "code",
      "metadata": {
        "id": "0Hj1Dg5Oui6O",
        "colab_type": "code",
        "colab": {
          "base_uri": "https://localhost:8080/",
          "height": 34
        },
        "outputId": "6ef369d7-b873-4782-9f7f-2984c051b36d"
      },
      "source": [
        "len(paras)"
      ],
      "execution_count": 10,
      "outputs": [
        {
          "output_type": "execute_result",
          "data": {
            "text/plain": [
              "114"
            ]
          },
          "metadata": {
            "tags": []
          },
          "execution_count": 10
        }
      ]
    },
    {
      "cell_type": "code",
      "metadata": {
        "id": "Ee-5ADoRui3i",
        "colab_type": "code",
        "colab": {}
      },
      "source": [
        "#paras"
      ],
      "execution_count": 0,
      "outputs": []
    },
    {
      "cell_type": "markdown",
      "metadata": {
        "id": "DcZMCo169U9_",
        "colab_type": "text"
      },
      "source": [
        "## 3) Converting questions into our own format"
      ]
    },
    {
      "cell_type": "code",
      "metadata": {
        "id": "RKmJ05UVuizC",
        "colab_type": "code",
        "colab": {
          "base_uri": "https://localhost:8080/",
          "height": 51
        },
        "outputId": "b51fcb35-09db-46a1-b0ad-dea5bceeaf47"
      },
      "source": [
        "print(questions[0])"
      ],
      "execution_count": 12,
      "outputs": [
        {
          "output_type": "stream",
          "text": [
            "What was watching humanity ?\n",
            "\n"
          ],
          "name": "stdout"
        }
      ]
    },
    {
      "cell_type": "code",
      "metadata": {
        "id": "xCVewxzkzEHF",
        "colab_type": "code",
        "colab": {}
      },
      "source": [
        "que = list()"
      ],
      "execution_count": 0,
      "outputs": []
    },
    {
      "cell_type": "code",
      "metadata": {
        "id": "QPNXPAYauiwX",
        "colab_type": "code",
        "colab": {}
      },
      "source": [
        "for line in questions:\n",
        "  que.append(re.findall(r\"[\\w']+|[.,!?;]\", line))"
      ],
      "execution_count": 0,
      "outputs": []
    },
    {
      "cell_type": "code",
      "metadata": {
        "id": "vbs7CFyruiu5",
        "colab_type": "code",
        "colab": {}
      },
      "source": [
        "#que"
      ],
      "execution_count": 0,
      "outputs": []
    },
    {
      "cell_type": "markdown",
      "metadata": {
        "id": "gOpT7Z4B9bR6",
        "colab_type": "text"
      },
      "source": [
        "## 4) Converting answers into our own format"
      ]
    },
    {
      "cell_type": "code",
      "metadata": {
        "id": "U35ztti2ui17",
        "colab_type": "code",
        "colab": {
          "base_uri": "https://localhost:8080/",
          "height": 51
        },
        "outputId": "56d8b875-1841-4562-a2dd-6e195241685a"
      },
      "source": [
        "print(answers[0])"
      ],
      "execution_count": 16,
      "outputs": [
        {
          "output_type": "stream",
          "text": [
            "martians\n",
            "\n"
          ],
          "name": "stdout"
        }
      ]
    },
    {
      "cell_type": "code",
      "metadata": {
        "id": "N-qAohJN0Pf6",
        "colab_type": "code",
        "colab": {
          "base_uri": "https://localhost:8080/",
          "height": 51
        },
        "outputId": "0a582e2e-e19d-418a-d5b4-9f9da913c6d9"
      },
      "source": [
        "print(answers[0])"
      ],
      "execution_count": 17,
      "outputs": [
        {
          "output_type": "stream",
          "text": [
            "martians\n",
            "\n"
          ],
          "name": "stdout"
        }
      ]
    },
    {
      "cell_type": "code",
      "metadata": {
        "id": "MyxHijobuirb",
        "colab_type": "code",
        "colab": {}
      },
      "source": [
        "ans = list()"
      ],
      "execution_count": 0,
      "outputs": []
    },
    {
      "cell_type": "code",
      "metadata": {
        "id": "CVqGSUhduipf",
        "colab_type": "code",
        "colab": {}
      },
      "source": [
        "for line in answers:\n",
        "  l = line.rstrip(\"\\n\")\n",
        "  ans.append(l.strip())"
      ],
      "execution_count": 0,
      "outputs": []
    },
    {
      "cell_type": "code",
      "metadata": {
        "id": "z4LyVGs8uim_",
        "colab_type": "code",
        "colab": {}
      },
      "source": [
        "#ans"
      ],
      "execution_count": 0,
      "outputs": []
    },
    {
      "cell_type": "code",
      "metadata": {
        "id": "y0M31W-4uie2",
        "colab_type": "code",
        "colab": {
          "base_uri": "https://localhost:8080/",
          "height": 34
        },
        "outputId": "bf28b539-a91e-4f58-d96e-8e03d2c2ea70"
      },
      "source": [
        "type(ans)"
      ],
      "execution_count": 21,
      "outputs": [
        {
          "output_type": "execute_result",
          "data": {
            "text/plain": [
              "list"
            ]
          },
          "metadata": {
            "tags": []
          },
          "execution_count": 21
        }
      ]
    },
    {
      "cell_type": "markdown",
      "metadata": {
        "id": "eSH4qgev9k8v",
        "colab_type": "text"
      },
      "source": [
        "## 5) Checking length of original vs our formatted data"
      ]
    },
    {
      "cell_type": "code",
      "metadata": {
        "id": "6cKJrxu1zhe3",
        "colab_type": "code",
        "outputId": "562f0bd7-3899-40b8-cc5b-da45efb80194",
        "colab": {
          "base_uri": "https://localhost:8080/",
          "height": 34
        }
      },
      "source": [
        "len(questions) , len(answers) , len(novel)"
      ],
      "execution_count": 22,
      "outputs": [
        {
          "output_type": "execute_result",
          "data": {
            "text/plain": [
              "(114, 114, 114)"
            ]
          },
          "metadata": {
            "tags": []
          },
          "execution_count": 22
        }
      ]
    },
    {
      "cell_type": "code",
      "metadata": {
        "id": "QXxdnxx43x0F",
        "colab_type": "code",
        "colab": {
          "base_uri": "https://localhost:8080/",
          "height": 34
        },
        "outputId": "6b70b897-bd2d-4d4c-a4de-af1737a2d0ac"
      },
      "source": [
        "len(paras) , len(ans) , len(que)"
      ],
      "execution_count": 23,
      "outputs": [
        {
          "output_type": "execute_result",
          "data": {
            "text/plain": [
              "(114, 114, 114)"
            ]
          },
          "metadata": {
            "tags": []
          },
          "execution_count": 23
        }
      ]
    },
    {
      "cell_type": "markdown",
      "metadata": {
        "id": "Z-XNBOl89sJz",
        "colab_type": "text"
      },
      "source": [
        "## 6) Creating original usable data"
      ]
    },
    {
      "cell_type": "code",
      "metadata": {
        "id": "FezgMRDE0ArQ",
        "colab_type": "code",
        "colab": {}
      },
      "source": [
        "train_data = list()\n",
        "\n",
        "for i in range(len(paras)):\n",
        "  a = (paras[i],que[i],ans[i])\n",
        "  train_data.append(a)"
      ],
      "execution_count": 0,
      "outputs": []
    },
    {
      "cell_type": "code",
      "metadata": {
        "id": "5xgOSE0hAixM",
        "colab_type": "code",
        "colab": {}
      },
      "source": [
        "data = train_data"
      ],
      "execution_count": 0,
      "outputs": []
    },
    {
      "cell_type": "code",
      "metadata": {
        "id": "E5hxiRlG2BvS",
        "colab_type": "code",
        "outputId": "95cf2522-cef5-44e4-ffcb-cf761f96cbc1",
        "colab": {
          "base_uri": "https://localhost:8080/",
          "height": 34
        }
      },
      "source": [
        "len(train_data)"
      ],
      "execution_count": 37,
      "outputs": [
        {
          "output_type": "execute_result",
          "data": {
            "text/plain": [
              "114"
            ]
          },
          "metadata": {
            "tags": []
          },
          "execution_count": 37
        }
      ]
    },
    {
      "cell_type": "code",
      "metadata": {
        "id": "ffei93452mQl",
        "colab_type": "code",
        "colab": {
          "base_uri": "https://localhost:8080/",
          "height": 1000
        },
        "outputId": "67841946-fbec-4741-ed73-919503bb9b00"
      },
      "source": [
        "train_data[0]"
      ],
      "execution_count": 38,
      "outputs": [
        {
          "output_type": "execute_result",
          "data": {
            "text/plain": [
              "(['THE',\n",
              "  'COMING',\n",
              "  'OF',\n",
              "  'THE',\n",
              "  'MARTIANS',\n",
              "  'No',\n",
              "  'one',\n",
              "  'would',\n",
              "  'have',\n",
              "  'believed',\n",
              "  'in',\n",
              "  'the',\n",
              "  'last',\n",
              "  'years',\n",
              "  'of',\n",
              "  'the',\n",
              "  'nineteenth',\n",
              "  'century',\n",
              "  'that',\n",
              "  'this',\n",
              "  'world',\n",
              "  'was',\n",
              "  'being',\n",
              "  'watched',\n",
              "  'keenly',\n",
              "  'and',\n",
              "  'closely',\n",
              "  'by',\n",
              "  'Martians',\n",
              "  'and',\n",
              "  'yet',\n",
              "  'as',\n",
              "  'mortal',\n",
              "  'as',\n",
              "  'his',\n",
              "  'own',\n",
              "  ';',\n",
              "  'that',\n",
              "  'as',\n",
              "  'men',\n",
              "  'busied',\n",
              "  'themselves',\n",
              "  'about',\n",
              "  'their',\n",
              "  'various',\n",
              "  'concerns',\n",
              "  'they',\n",
              "  'were',\n",
              "  'scrutinised',\n",
              "  'and',\n",
              "  'studied',\n",
              "  ',',\n",
              "  'perhaps',\n",
              "  'almost',\n",
              "  'as',\n",
              "  'narrowly',\n",
              "  'as',\n",
              "  'a',\n",
              "  'man',\n",
              "  'with',\n",
              "  'a',\n",
              "  'microscope',\n",
              "  'might',\n",
              "  'scrutinise',\n",
              "  'the',\n",
              "  'transient',\n",
              "  'creatures',\n",
              "  'that',\n",
              "  'swarm',\n",
              "  'and',\n",
              "  'multiply',\n",
              "  'in',\n",
              "  'a',\n",
              "  'drop',\n",
              "  'of',\n",
              "  'water',\n",
              "  '.'],\n",
              " ['What', 'was', 'watching', 'humanity', '?'],\n",
              " 'martians')"
            ]
          },
          "metadata": {
            "tags": []
          },
          "execution_count": 38
        }
      ]
    },
    {
      "cell_type": "code",
      "metadata": {
        "id": "4CEX5_nsAZm7",
        "colab_type": "code",
        "colab": {}
      },
      "source": [
        "test_data = data[100:]"
      ],
      "execution_count": 0,
      "outputs": []
    },
    {
      "cell_type": "markdown",
      "metadata": {
        "id": "-tiuyMAT-jfy",
        "colab_type": "text"
      },
      "source": [
        "## 7) Saving our data to a file for easy readability"
      ]
    },
    {
      "cell_type": "code",
      "metadata": {
        "id": "JpmDakJs2ooO",
        "colab_type": "code",
        "colab": {}
      },
      "source": [
        "import pickle\n",
        "\n",
        "pickle_out = open(\"train_qa.txt\",\"wb\")\n",
        "pickle.dump(train_data, pickle_out)\n",
        "pickle_out.close()"
      ],
      "execution_count": 0,
      "outputs": []
    },
    {
      "cell_type": "code",
      "metadata": {
        "id": "iiTa3beK_JFj",
        "colab_type": "code",
        "colab": {}
      },
      "source": [
        "pickle_in = open(\"train_qa.txt\",\"rb\")\n",
        "train_data = pickle.load(pickle_in)"
      ],
      "execution_count": 0,
      "outputs": []
    },
    {
      "cell_type": "code",
      "metadata": {
        "id": "LBosDinC_b_R",
        "colab_type": "code",
        "colab": {
          "base_uri": "https://localhost:8080/",
          "height": 34
        },
        "outputId": "6a865880-8bc1-45aa-aadf-7deda921aab1"
      },
      "source": [
        "print(type(train_data))"
      ],
      "execution_count": 41,
      "outputs": [
        {
          "output_type": "stream",
          "text": [
            "<class 'list'>\n"
          ],
          "name": "stdout"
        }
      ]
    },
    {
      "cell_type": "code",
      "metadata": {
        "id": "PTQOkh0P_dy1",
        "colab_type": "code",
        "colab": {
          "base_uri": "https://localhost:8080/",
          "height": 34
        },
        "outputId": "e5c8a4f3-3e8c-4264-af1c-27e26417c216"
      },
      "source": [
        "print(type(train_data[0]))"
      ],
      "execution_count": 42,
      "outputs": [
        {
          "output_type": "stream",
          "text": [
            "<class 'tuple'>\n"
          ],
          "name": "stdout"
        }
      ]
    },
    {
      "cell_type": "code",
      "metadata": {
        "id": "WuFMD3FW__mQ",
        "colab_type": "code",
        "colab": {}
      },
      "source": [
        "pickle_out = open(\"test_qa.txt\",\"wb\")\n",
        "pickle.dump(test_data, pickle_out)\n",
        "pickle_out.close()"
      ],
      "execution_count": 0,
      "outputs": []
    },
    {
      "cell_type": "code",
      "metadata": {
        "id": "kfHau25yAvKq",
        "colab_type": "code",
        "colab": {}
      },
      "source": [
        "pickle_in = open(\"test_qa.txt\",\"rb\")\n",
        "test_data = pickle.load(pickle_in)"
      ],
      "execution_count": 0,
      "outputs": []
    },
    {
      "cell_type": "code",
      "metadata": {
        "id": "pepaNzIDAzgv",
        "colab_type": "code",
        "colab": {
          "base_uri": "https://localhost:8080/",
          "height": 34
        },
        "outputId": "b18e79be-ee3a-4aac-ca08-b219b3ab0126"
      },
      "source": [
        "print(type(test_data))"
      ],
      "execution_count": 48,
      "outputs": [
        {
          "output_type": "stream",
          "text": [
            "<class 'list'>\n"
          ],
          "name": "stdout"
        }
      ]
    },
    {
      "cell_type": "code",
      "metadata": {
        "id": "MYGhUc-eA3pS",
        "colab_type": "code",
        "colab": {
          "base_uri": "https://localhost:8080/",
          "height": 34
        },
        "outputId": "4d2fee58-1128-4bde-e22d-d4133c373ce6"
      },
      "source": [
        "print(type(test_data[0]))"
      ],
      "execution_count": 49,
      "outputs": [
        {
          "output_type": "stream",
          "text": [
            "<class 'tuple'>\n"
          ],
          "name": "stdout"
        }
      ]
    },
    {
      "cell_type": "code",
      "metadata": {
        "id": "UWGA6rY_A6mN",
        "colab_type": "code",
        "colab": {}
      },
      "source": [
        ""
      ],
      "execution_count": 0,
      "outputs": []
    }
  ]
}