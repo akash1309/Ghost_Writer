{
  "nbformat": 4,
  "nbformat_minor": 0,
  "metadata": {
    "colab": {
      "name": "DataCleaning.ipynb",
      "provenance": [],
      "mount_file_id": "1wtupnTMQDy1Q_4xyD6RVOURRD5fSEpGU",
      "authorship_tag": "ABX9TyNfLmfgIis/r2Z3XPUfQ8JW"
    },
    "kernelspec": {
      "name": "python3",
      "display_name": "Python 3"
    }
  },
  "cells": [
    {
      "cell_type": "code",
      "metadata": {
        "id": "5IcejlZTsqPg",
        "colab_type": "code",
        "colab": {}
      },
      "source": [
        "import numpy as np\n",
        "import pandas as pd"
      ],
      "execution_count": 0,
      "outputs": []
    },
    {
      "cell_type": "code",
      "metadata": {
        "id": "OQoXu7edxs6p",
        "colab_type": "code",
        "colab": {}
      },
      "source": [
        "# For novel\n",
        "\n",
        "with open('drive/My Drive/the_war_of_the_worlds.txt') as f:\n",
        "  novel = f.readlines()\n",
        "\n",
        "# For questions\n",
        "\n",
        "with open('drive/My Drive/questions.txt') as f:\n",
        "  questions = f.readlines()\n",
        "\n",
        "# For answers\n",
        "\n",
        "with open('drive/My Drive/answer.txt') as f:\n",
        "  answers = f.readlines()"
      ],
      "execution_count": 0,
      "outputs": []
    },
    {
      "cell_type": "code",
      "metadata": {
        "id": "WzwgQ8Tcylro",
        "colab_type": "code",
        "colab": {
          "base_uri": "https://localhost:8080/",
          "height": 34
        },
        "outputId": "d29f4ad7-e825-47fb-9039-443e7fbee737"
      },
      "source": [
        "type(questions) "
      ],
      "execution_count": 34,
      "outputs": [
        {
          "output_type": "execute_result",
          "data": {
            "text/plain": [
              "list"
            ]
          },
          "metadata": {
            "tags": []
          },
          "execution_count": 34
        }
      ]
    },
    {
      "cell_type": "code",
      "metadata": {
        "id": "vVLcdDIjyx_E",
        "colab_type": "code",
        "colab": {
          "base_uri": "https://localhost:8080/",
          "height": 34
        },
        "outputId": "0d2b1d60-2ebe-4a7a-d9b6-f3d04796a86b"
      },
      "source": [
        "questions[0]"
      ],
      "execution_count": 35,
      "outputs": [
        {
          "output_type": "execute_result",
          "data": {
            "text/plain": [
              "'What was watching humanity ?\\n'"
            ]
          },
          "metadata": {
            "tags": []
          },
          "execution_count": 35
        }
      ]
    },
    {
      "cell_type": "code",
      "metadata": {
        "id": "Q3q4YVWKzA6K",
        "colab_type": "code",
        "colab": {
          "base_uri": "https://localhost:8080/",
          "height": 51
        },
        "outputId": "24887f56-cae5-468f-d95c-1bde4bdfc5ab"
      },
      "source": [
        "print(questions[1])"
      ],
      "execution_count": 36,
      "outputs": [
        {
          "output_type": "stream",
          "text": [
            "To what does the narrator compare humans in the minds of the Martians ?\n",
            "\n"
          ],
          "name": "stdout"
        }
      ]
    },
    {
      "cell_type": "code",
      "metadata": {
        "id": "TPe0S-HozDat",
        "colab_type": "code",
        "colab": {
          "base_uri": "https://localhost:8080/",
          "height": 255
        },
        "outputId": "96f05ad5-2a7a-4868-ca7c-9013c82aff65"
      },
      "source": [
        "questions[1].split()"
      ],
      "execution_count": 37,
      "outputs": [
        {
          "output_type": "execute_result",
          "data": {
            "text/plain": [
              "['To',\n",
              " 'what',\n",
              " 'does',\n",
              " 'the',\n",
              " 'narrator',\n",
              " 'compare',\n",
              " 'humans',\n",
              " 'in',\n",
              " 'the',\n",
              " 'minds',\n",
              " 'of',\n",
              " 'the',\n",
              " 'Martians',\n",
              " '?']"
            ]
          },
          "metadata": {
            "tags": []
          },
          "execution_count": 37
        }
      ]
    },
    {
      "cell_type": "code",
      "metadata": {
        "id": "PA1sPUpTzJDA",
        "colab_type": "code",
        "colab": {
          "base_uri": "https://localhost:8080/",
          "height": 34
        },
        "outputId": "3b0039d4-306e-4888-90e5-049ce5b93db3"
      },
      "source": [
        "len(novel)"
      ],
      "execution_count": 38,
      "outputs": [
        {
          "output_type": "execute_result",
          "data": {
            "text/plain": [
              "1053"
            ]
          },
          "metadata": {
            "tags": []
          },
          "execution_count": 38
        }
      ]
    },
    {
      "cell_type": "code",
      "metadata": {
        "id": "Iq86VTxuzbcn",
        "colab_type": "code",
        "colab": {
          "base_uri": "https://localhost:8080/",
          "height": 34
        },
        "outputId": "80597625-9b06-49c3-b70f-0d6f58a96340"
      },
      "source": [
        "answers[0].split()"
      ],
      "execution_count": 39,
      "outputs": [
        {
          "output_type": "execute_result",
          "data": {
            "text/plain": [
              "['MARTIANS']"
            ]
          },
          "metadata": {
            "tags": []
          },
          "execution_count": 39
        }
      ]
    },
    {
      "cell_type": "code",
      "metadata": {
        "id": "6cKJrxu1zhe3",
        "colab_type": "code",
        "colab": {
          "base_uri": "https://localhost:8080/",
          "height": 34
        },
        "outputId": "4e62774f-2406-4c28-ae0f-3985a7a0467e"
      },
      "source": [
        "len(questions) , len(answers)"
      ],
      "execution_count": 40,
      "outputs": [
        {
          "output_type": "execute_result",
          "data": {
            "text/plain": [
              "(145, 145)"
            ]
          },
          "metadata": {
            "tags": []
          },
          "execution_count": 40
        }
      ]
    },
    {
      "cell_type": "code",
      "metadata": {
        "id": "FezgMRDE0ArQ",
        "colab_type": "code",
        "colab": {}
      },
      "source": [
        "data = list()\n",
        "\n",
        "for i in range(len(questions)):\n",
        "  \"\"\"\n",
        "  print(questions[i])\n",
        "  print('\\n\\n\\n')\n",
        "  print(answers[i])\n",
        "  \"\"\"\n",
        "  a = (novel,questions[i],answers[i])\n",
        "  data.append(a)"
      ],
      "execution_count": 0,
      "outputs": []
    },
    {
      "cell_type": "code",
      "metadata": {
        "id": "E5hxiRlG2BvS",
        "colab_type": "code",
        "colab": {
          "base_uri": "https://localhost:8080/",
          "height": 34
        },
        "outputId": "9cb6084e-ad7e-4d7f-f6cd-45f06fca95d1"
      },
      "source": [
        "len(data)"
      ],
      "execution_count": 44,
      "outputs": [
        {
          "output_type": "execute_result",
          "data": {
            "text/plain": [
              "145"
            ]
          },
          "metadata": {
            "tags": []
          },
          "execution_count": 44
        }
      ]
    },
    {
      "cell_type": "code",
      "metadata": {
        "id": "ffei93452mQl",
        "colab_type": "code",
        "colab": {}
      },
      "source": [
        "#data[0]"
      ],
      "execution_count": 0,
      "outputs": []
    },
    {
      "cell_type": "code",
      "metadata": {
        "id": "JpmDakJs2ooO",
        "colab_type": "code",
        "colab": {}
      },
      "source": [
        ""
      ],
      "execution_count": 0,
      "outputs": []
    }
  ]
}