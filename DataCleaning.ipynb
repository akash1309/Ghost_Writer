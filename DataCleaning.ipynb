{
  "nbformat": 4,
  "nbformat_minor": 0,
  "metadata": {
    "colab": {
      "name": "DataCleaning.ipynb",
      "provenance": [],
      "mount_file_id": "1wtupnTMQDy1Q_4xyD6RVOURRD5fSEpGU",
      "authorship_tag": "ABX9TyO8Nh5NB6gkW9ECPKiNUuwn"
    },
    "kernelspec": {
      "name": "python3",
      "display_name": "Python 3"
    }
  },
  "cells": [
    {
      "cell_type": "markdown",
      "metadata": {
        "id": "TFwxwopO4F8a",
        "colab_type": "text"
      },
      "source": [
        "# Data Cleaning"
      ]
    },
    {
      "cell_type": "code",
      "metadata": {
        "id": "OQoXu7edxs6p",
        "colab_type": "code",
        "colab": {}
      },
      "source": [
        "# For novel\n",
        "\n",
        "with open('drive/My Drive/Pytorch_DataSet/Ghost_Writer/paragraph.txt') as f:\n",
        "  novel = f.readlines()\n",
        "\n",
        "# For questions\n",
        "\n",
        "with open('drive/My Drive/Pytorch_DataSet/Ghost_Writer/questions.txt') as f:\n",
        "  questions = f.readlines()\n",
        "\n",
        "# For answers\n",
        "\n",
        "with open('drive/My Drive/Pytorch_DataSet/Ghost_Writer/answer.txt') as f:\n",
        "  answers = f.readlines()"
      ],
      "execution_count": 0,
      "outputs": []
    },
    {
      "cell_type": "code",
      "metadata": {
        "id": "WzwgQ8Tcylro",
        "colab_type": "code",
        "outputId": "420701e5-67df-40d8-d8bf-c5efa8a931e8",
        "colab": {
          "base_uri": "https://localhost:8080/",
          "height": 34
        }
      },
      "source": [
        "type(questions) "
      ],
      "execution_count": 3,
      "outputs": [
        {
          "output_type": "execute_result",
          "data": {
            "text/plain": [
              "list"
            ]
          },
          "metadata": {
            "tags": []
          },
          "execution_count": 3
        }
      ]
    },
    {
      "cell_type": "code",
      "metadata": {
        "id": "vVLcdDIjyx_E",
        "colab_type": "code",
        "outputId": "a785a51a-38b9-4a1a-c4e5-b2b28e3b4485",
        "colab": {
          "base_uri": "https://localhost:8080/",
          "height": 34
        }
      },
      "source": [
        "questions[0]"
      ],
      "execution_count": 4,
      "outputs": [
        {
          "output_type": "execute_result",
          "data": {
            "text/plain": [
              "'What was watching humanity ?\\n'"
            ]
          },
          "metadata": {
            "tags": []
          },
          "execution_count": 4
        }
      ]
    },
    {
      "cell_type": "code",
      "metadata": {
        "id": "Q3q4YVWKzA6K",
        "colab_type": "code",
        "outputId": "1487312d-d61b-4c1b-a19b-ffa460bd8298",
        "colab": {
          "base_uri": "https://localhost:8080/",
          "height": 51
        }
      },
      "source": [
        "print(questions[1])"
      ],
      "execution_count": 5,
      "outputs": [
        {
          "output_type": "stream",
          "text": [
            "To what does the narrator compare humans in the minds of the Martians ?\n",
            "\n"
          ],
          "name": "stdout"
        }
      ]
    },
    {
      "cell_type": "code",
      "metadata": {
        "id": "TPe0S-HozDat",
        "colab_type": "code",
        "outputId": "9dd82b55-15b1-4aed-b9b7-a5c44cde7c39",
        "colab": {
          "base_uri": "https://localhost:8080/",
          "height": 255
        }
      },
      "source": [
        "questions[1].split()"
      ],
      "execution_count": 6,
      "outputs": [
        {
          "output_type": "execute_result",
          "data": {
            "text/plain": [
              "['To',\n",
              " 'what',\n",
              " 'does',\n",
              " 'the',\n",
              " 'narrator',\n",
              " 'compare',\n",
              " 'humans',\n",
              " 'in',\n",
              " 'the',\n",
              " 'minds',\n",
              " 'of',\n",
              " 'the',\n",
              " 'Martians',\n",
              " '?']"
            ]
          },
          "metadata": {
            "tags": []
          },
          "execution_count": 6
        }
      ]
    },
    {
      "cell_type": "code",
      "metadata": {
        "id": "PA1sPUpTzJDA",
        "colab_type": "code",
        "outputId": "d45e7c67-d6b1-48eb-80da-6eabfcc163d7",
        "colab": {
          "base_uri": "https://localhost:8080/",
          "height": 34
        }
      },
      "source": [
        "len(novel)"
      ],
      "execution_count": 7,
      "outputs": [
        {
          "output_type": "execute_result",
          "data": {
            "text/plain": [
              "114"
            ]
          },
          "metadata": {
            "tags": []
          },
          "execution_count": 7
        }
      ]
    },
    {
      "cell_type": "code",
      "metadata": {
        "id": "IrLNNBrQpZx4",
        "colab_type": "code",
        "colab": {}
      },
      "source": [
        "#novel[0].split()"
      ],
      "execution_count": 0,
      "outputs": []
    },
    {
      "cell_type": "code",
      "metadata": {
        "id": "tPOoVBAuui-0",
        "colab_type": "code",
        "colab": {}
      },
      "source": [
        "import re"
      ],
      "execution_count": 0,
      "outputs": []
    },
    {
      "cell_type": "code",
      "metadata": {
        "id": "m0-Yd7r9xFqY",
        "colab_type": "code",
        "colab": {}
      },
      "source": [
        "paras = list()"
      ],
      "execution_count": 0,
      "outputs": []
    },
    {
      "cell_type": "code",
      "metadata": {
        "id": "OH92ui8xui8I",
        "colab_type": "code",
        "colab": {}
      },
      "source": [
        "for line in novel:\n",
        "  paras.append(re.findall(r\"[\\w']+|[.,!?;]\", line))"
      ],
      "execution_count": 0,
      "outputs": []
    },
    {
      "cell_type": "code",
      "metadata": {
        "id": "0Hj1Dg5Oui6O",
        "colab_type": "code",
        "colab": {
          "base_uri": "https://localhost:8080/",
          "height": 34
        },
        "outputId": "62bd77ea-6230-4351-d8ef-e4da3394fba0"
      },
      "source": [
        "len(paras)"
      ],
      "execution_count": 12,
      "outputs": [
        {
          "output_type": "execute_result",
          "data": {
            "text/plain": [
              "114"
            ]
          },
          "metadata": {
            "tags": []
          },
          "execution_count": 12
        }
      ]
    },
    {
      "cell_type": "code",
      "metadata": {
        "id": "Ee-5ADoRui3i",
        "colab_type": "code",
        "colab": {}
      },
      "source": [
        "#paras"
      ],
      "execution_count": 0,
      "outputs": []
    },
    {
      "cell_type": "code",
      "metadata": {
        "id": "U35ztti2ui17",
        "colab_type": "code",
        "colab": {
          "base_uri": "https://localhost:8080/",
          "height": 54
        },
        "outputId": "77533b53-41b9-4e8d-c880-1ff7aa0a7de8"
      },
      "source": [
        "print(answers)"
      ],
      "execution_count": 14,
      "outputs": [
        {
          "output_type": "stream",
          "text": [
            "['martians\\n', 'monkeys and lemurs\\n', 'mars is older than earth\\n', 'cooling of planet\\n', 'to illustrate how the martians see humans\\n', 'strange lights on the surface of the mars \\n', 'missiles the martians had fired\\n', 'an astronomer \\n', 'showed the narrator mars from the telescope \\n', 'meteorites \\n', 'it was highly unlikely\\n', 'ride a bicycle\\n', 'a cylinder \\n', 'telegraphed the news to london\\n', 'headed the sand pits\\n', 'throwing rocks at the cylinder\\n', 'the cylinder was made of a extra - terrestrial metal \\n', 'the man fell in the pit \\n', 'big greyish rounded bulks\\n', 'flashed them into white flame\\n', 'the heat ray \\n', 'it uses a mirror to concentrate the heat \\n', 'home\\n', 'dodo\\n', 'business carried on as usual\\n', 'ogilvy \\n', 'mars began to cool off\\n', 'the cardigan regiment\\n', 'horsell common\\n', 'fifteen\\n', 'a group of men  \\n', 'thunder child \\n', 'tillingham \\n', 'ten\\n', 'the last man left alive \\n', \"earth's gravity is three times \\n\", 'six years ago \\n', 'greenish smoke \\n', 'bacteria \\n', 'denning\\n', 'about ninety or one hunderd miles \\n', 'curate is struck by meat chopper\\n', 'white flag\\n', 'london \\n', 'down the hill \\n', 'the little cage \\n', 'blood \\n', 'three \\n', 'forty\\n', 'a tobacconist\\n', 'red \\n', 'four days \\n', 'since midday \\n', 'twelve miles\\n', 'mankind had been swept out of existence\\n', 'birmingham \\n', 'possibility of another attack \\n', 'scullery\\n', 'the last man alive \\n', 'martians\\n', 'ogilvy\\n', 'middlesex \\n', 'on the common between horsell, ottershaw and woking \\n', 'a message received from mars \\n', 'a big greyish rounded bulk \\n', 'they are suddenly and momentarily turned to fire \\n', 'mrs elphinstone\\n', 'ogilvy \\n', 'at nine o ’ clock \\n', 'blunt end of a cleaver \\n', 'a driver\\n', 'human blood\\n', 'thunder child \\n', 'bacteria \\n', 'london \\n', 'on the common between horsell ottershaw and woking\\n', 'turned to fire \\n', 'six years ago\\n', 'green \\n', 'meteorite \\n', 'a man \\n', 'journalist \\n', 'bear \\n', 'a message received from mars\\n', 'a bat\\n', 'a white flag\\n', 'they move very slowly\\n', 'the gravity is three times\\n', 'four hunderd \\n', 'leatherhead\\n', 'excited \\n', 'ten \\n', 'a medical student \\n', 'a big greyish rounded bulk\\n', 'a dog \\n', 'red weed\\n', 'red weed \\n', 'angel of death \\n', 'bacteria\\n', 'bodies were examined\\n', 'his wife \\n', 'a meat chopper\\n', 'ten days\\n', 'a bottle of wine\\n', 'coal\\n', 'red weed\\n', 'martians\\n', 'his wife\\n', 'spider\\n', 'blood\\n', 'henderson\\n', 'an ironclad warship\\n', 'sun\\n', 'my brother']\n"
          ],
          "name": "stdout"
        }
      ]
    },
    {
      "cell_type": "code",
      "metadata": {
        "id": "RKmJ05UVuizC",
        "colab_type": "code",
        "colab": {
          "base_uri": "https://localhost:8080/",
          "height": 54
        },
        "outputId": "7890387c-b510-4eb1-dca6-4364cbefca44"
      },
      "source": [
        "print(questions)"
      ],
      "execution_count": 15,
      "outputs": [
        {
          "output_type": "stream",
          "text": [
            "['What was watching humanity ?\\n', 'To what does the narrator compare humans in the minds of the Martians ?\\n', 'What does the narrator assert about Mars ?\\n', 'What occurs on Mars to spark the invasion ?\\n', 'Why does the narrator bring up the extinction of the Tasmanians ? \\n', 'What did astronomers notice about Mars in the years before the invasion ? \\n', 'What did these lights represent ? \\n', 'Who is Ogilvy ? \\n', 'What does Ogilvy do for the narrator ? \\n', 'What does Ogilvy think is causing these explosions on the surface of Mars ? \\n', 'What does Ogilvy think of the idea that it is aliens causing these explosions ?\\n', 'In the first chapter , what is the narrator learning how to do ?\\n', 'What does Ogilvy find when he looks for the meteor ? \\n', 'What does Henderson do after Ogilvy shows him the cylinder ? \\n', \"What does the narrator do when he reads Henderson ' s article ? \\n\", 'What are the young boys doing to the cylinder ? \\n', 'What does the narrator notice about the cylinder ? \\n', 'What happened to the man who came to see the cylinder ? \\n', 'What do the Martians look like ? \\n', 'What do the Martians do to the men carrying the white flag ?\\n', \"What does the narrator call the Martians ' main weapon ?\\n\", 'What is one theory about how the heat ray works ? \\n', 'Where does the narrator go after the attack on the commons ? \\n', 'What does the narrator compare himself ? \\n', 'How do people respond after the first Martian attack ?\\n', 'Who first discovers the Martian cylinder ? \\n', 'Why did the Martians leave their home planet and invade Earth ? \\n', 'To combat the Men from Mars , which Regiment was dispatched to form a cordon around Horsell Common ?\\n', 'Where did the first meteorite land ? \\n', 'How many days were the narrator and the curate trapped in a house on the edge of the pit ?\\n', 'Who was momentarily turned to fire ? \\n', 'What came to the rescue of threatened shipping ? \\n', 'What seemed to be quiet silent and deserted ? \\n', 'How many cylinders were fired at the Earth from Mars ? \\n', \"What was the narrator singing when he was found wandering , weeping and raving by a house of kindly people in St John's Wood ?\\n\", 'How is the force of gravity on earth as compared to Mars ? \\n', 'When the storm brust upon us  ? \\n', 'What came out of the pit ? \\n', 'Martians were slain by what ? \\n', 'Name of the greatest authority on meteorites ?\\n', 'What was the stated height of first appearance of meteorites ? \\n', 'Narrator struck the curate with ?\\n', 'What were the men waving ?\\n', \"Where was the narrator ' s younger brother ? \\n\", 'Where did the narrator go after he parted from aetilleryman ?\\n', 'The narrator saw a long tentacle reaching to what ? \\n', 'What do the Martians eat ? \\n', 'How many points of light were visible in empty space ? \\n', 'How many people lay under the starlight about he pit ?\\n', 'Who is Marshall ?\\n', 'What spread up the sides of the pit by fourth day ?\\n', 'For how many days author remained with them after recovery ?\\n', 'How long has it been since the soldier has eaten food ? \\n', 'How far is Leatherhead from Maybury Hill ?\\n', 'What does the narrator begin to believe right after he leaves the ruined house ? \\n', 'Where do the members of goverment had gathered ? \\n', 'What does the narrator believes when the invasion ends ?\\n', 'After eating where the narrator crept back ? \\n', 'What song was the narrator singing ? \\n', 'What was emerging from the cylinder ?\\n', 'Who was well known astronomer ?\\n', 'Where people must have seen the meteorite ?\\n', 'Where does Ogilvy find the first cylinder ? \\n', 'What was the headline of the evening papers of london ?\\n', 'The cylinder opens and the creature inside has ? \\n', 'what happens When the Heat Ray hits someone? \\n', 'What was the name of the women in white ?\\n', 'Who is the well known astronomer that the narrator knows ? \\n', 'When they got to the leatherhead ? \\n', 'What did the narrator struck the curate with ? \\n', 'What was the boy in the artillery ? \\n', 'What do the Martians eat to stay alive ? \\n', 'Which warship takes out two Martians ? \\n', 'What were the Martians slain by ? \\n', \"Where was the narrator ' s brother when the martians fell ? \\n\", 'Where did the meteorite lay ? \\n', 'What happened to the people waving the White Flag at the first cylinder ? \\n', 'When did the Martian invasion begin ? \\n', 'What color smoke came out of pit ? \\n', 'What object descended on the horsell commom ? \\n', 'What does Ogilvy think is inside ? \\n', 'Who is Henderson ? \\n', 'The narrator describes the martian to be about the size of what  ?\\n', 'What is the headline in the London newspaper the day after the object is found ?\\n', 'What flickered by and vanished ?\\n', 'What were the men waving to Martians? \\n', 'What does the narrator tell his wife about the martians to reassure her ?\\n', 'Why does Ogilvy think the martians cannot establish themselves on Earth ?\\n', 'About how many soldiers of Cardigan regiment started from Aldershot ? \\n', 'Where do the narrator wife cousin live ?\\n', 'After the narrator gets his wife to safety. How does the narrator felt about his return ? \\n', 'How many shots were fired from Mars ? \\n', \"What was narrator' s younger brother ? \\n\", 'What was rising out of cylinder ?\\n', 'What did the narrator saw going into the Kitchen ? \\n', 'What is all over the place after the Narrator finally emerges ?\\n', 'What nearly choked the bridge roadway ?  \\n', 'According to narrator who has slain them in the night ? \\n', 'Martians were finally slain by whom ?\\n', 'What was done to the bodies of Martians after war ?\\n', 'Who does the Narrator finally see in the end ? \\n', 'The narrator finally loses his patience with the curate and struck him with ?\\n', 'Narrator divided the pantry into rations to last for ?\\n', 'The curate and the narrator fought over ?\\n', 'What did the narrator cover himself with to hide from the Martians ?\\n', 'what scummed as quickly as it spread ?\\n', 'Who has taken all the food ?\\n', 'The author was very worried about ?\\n', 'Peeking through a hole in the house , the author and the coward saw a new machine that looked like a ?\\n', 'The Martians did not need to sleep or eat But they did need ?\\n', 'What is the name of the London journalist ?\\n', 'What is Thunder Child ?\\n', 'what is screwing of the place ?\\n', 'Who struck the commom ?']\n"
          ],
          "name": "stdout"
        }
      ]
    },
    {
      "cell_type": "code",
      "metadata": {
        "id": "xCVewxzkzEHF",
        "colab_type": "code",
        "colab": {}
      },
      "source": [
        "que = list()"
      ],
      "execution_count": 0,
      "outputs": []
    },
    {
      "cell_type": "code",
      "metadata": {
        "id": "QPNXPAYauiwX",
        "colab_type": "code",
        "colab": {}
      },
      "source": [
        "for line in questions:\n",
        "  que.append(re.findall(r\"[\\w']+|[.,!?;]\", line))"
      ],
      "execution_count": 0,
      "outputs": []
    },
    {
      "cell_type": "code",
      "metadata": {
        "id": "vbs7CFyruiu5",
        "colab_type": "code",
        "colab": {}
      },
      "source": [
        "#que"
      ],
      "execution_count": 0,
      "outputs": []
    },
    {
      "cell_type": "code",
      "metadata": {
        "id": "MyxHijobuirb",
        "colab_type": "code",
        "colab": {}
      },
      "source": [
        "ans = list()"
      ],
      "execution_count": 0,
      "outputs": []
    },
    {
      "cell_type": "code",
      "metadata": {
        "id": "N-qAohJN0Pf6",
        "colab_type": "code",
        "colab": {
          "base_uri": "https://localhost:8080/",
          "height": 51
        },
        "outputId": "a455ddde-b490-43b4-ecf5-3cdc7537d703"
      },
      "source": [
        "print(answers[0])"
      ],
      "execution_count": 20,
      "outputs": [
        {
          "output_type": "stream",
          "text": [
            "martians\n",
            "\n"
          ],
          "name": "stdout"
        }
      ]
    },
    {
      "cell_type": "code",
      "metadata": {
        "id": "CVqGSUhduipf",
        "colab_type": "code",
        "colab": {}
      },
      "source": [
        "for line in answers:\n",
        "  l = line.rstrip(\"\\n\")\n",
        "  ans.append(l.strip())"
      ],
      "execution_count": 0,
      "outputs": []
    },
    {
      "cell_type": "code",
      "metadata": {
        "id": "z4LyVGs8uim_",
        "colab_type": "code",
        "colab": {}
      },
      "source": [
        "#ans"
      ],
      "execution_count": 0,
      "outputs": []
    },
    {
      "cell_type": "code",
      "metadata": {
        "id": "y0M31W-4uie2",
        "colab_type": "code",
        "colab": {
          "base_uri": "https://localhost:8080/",
          "height": 34
        },
        "outputId": "da1a5faf-85a2-433a-809a-fb13a809305b"
      },
      "source": [
        "type(ans)"
      ],
      "execution_count": 23,
      "outputs": [
        {
          "output_type": "execute_result",
          "data": {
            "text/plain": [
              "list"
            ]
          },
          "metadata": {
            "tags": []
          },
          "execution_count": 23
        }
      ]
    },
    {
      "cell_type": "code",
      "metadata": {
        "id": "6cKJrxu1zhe3",
        "colab_type": "code",
        "outputId": "b0560b31-a059-41d1-b1c3-71c7f5afb589",
        "colab": {
          "base_uri": "https://localhost:8080/",
          "height": 34
        }
      },
      "source": [
        "len(questions) , len(answers) , len(novel)"
      ],
      "execution_count": 24,
      "outputs": [
        {
          "output_type": "execute_result",
          "data": {
            "text/plain": [
              "(114, 114, 114)"
            ]
          },
          "metadata": {
            "tags": []
          },
          "execution_count": 24
        }
      ]
    },
    {
      "cell_type": "code",
      "metadata": {
        "id": "QXxdnxx43x0F",
        "colab_type": "code",
        "colab": {
          "base_uri": "https://localhost:8080/",
          "height": 34
        },
        "outputId": "9d3860e9-cad5-4e79-a6f3-c1bcb159ce0a"
      },
      "source": [
        "len(paras) , len(ans) , len(que)"
      ],
      "execution_count": 25,
      "outputs": [
        {
          "output_type": "execute_result",
          "data": {
            "text/plain": [
              "(114, 114, 114)"
            ]
          },
          "metadata": {
            "tags": []
          },
          "execution_count": 25
        }
      ]
    },
    {
      "cell_type": "code",
      "metadata": {
        "id": "FezgMRDE0ArQ",
        "colab_type": "code",
        "colab": {}
      },
      "source": [
        "data = list()\n",
        "\n",
        "for i in range(len(paras)):\n",
        "  \"\"\"\n",
        "  print(questions[i])\n",
        "  print('\\n\\n\\n')\n",
        "  print(answers[i])\n",
        "  \"\"\"\n",
        "  a = (paras[i],que[i],ans[i])\n",
        "  data.append(a)"
      ],
      "execution_count": 0,
      "outputs": []
    },
    {
      "cell_type": "code",
      "metadata": {
        "id": "E5hxiRlG2BvS",
        "colab_type": "code",
        "outputId": "9d741fd7-ec39-4375-df89-17872a3b53f5",
        "colab": {
          "base_uri": "https://localhost:8080/",
          "height": 34
        }
      },
      "source": [
        "len(data)"
      ],
      "execution_count": 27,
      "outputs": [
        {
          "output_type": "execute_result",
          "data": {
            "text/plain": [
              "114"
            ]
          },
          "metadata": {
            "tags": []
          },
          "execution_count": 27
        }
      ]
    },
    {
      "cell_type": "code",
      "metadata": {
        "id": "ffei93452mQl",
        "colab_type": "code",
        "colab": {
          "base_uri": "https://localhost:8080/",
          "height": 1000
        },
        "outputId": "a4e517d6-0533-402d-9a32-ffb1fb0a285f"
      },
      "source": [
        "data[0]"
      ],
      "execution_count": 28,
      "outputs": [
        {
          "output_type": "execute_result",
          "data": {
            "text/plain": [
              "(['THE',\n",
              "  'COMING',\n",
              "  'OF',\n",
              "  'THE',\n",
              "  'MARTIANS',\n",
              "  'No',\n",
              "  'one',\n",
              "  'would',\n",
              "  'have',\n",
              "  'believed',\n",
              "  'in',\n",
              "  'the',\n",
              "  'last',\n",
              "  'years',\n",
              "  'of',\n",
              "  'the',\n",
              "  'nineteenth',\n",
              "  'century',\n",
              "  'that',\n",
              "  'this',\n",
              "  'world',\n",
              "  'was',\n",
              "  'being',\n",
              "  'watched',\n",
              "  'keenly',\n",
              "  'and',\n",
              "  'closely',\n",
              "  'by',\n",
              "  'Martians',\n",
              "  'and',\n",
              "  'yet',\n",
              "  'as',\n",
              "  'mortal',\n",
              "  'as',\n",
              "  'his',\n",
              "  'own',\n",
              "  ';',\n",
              "  'that',\n",
              "  'as',\n",
              "  'men',\n",
              "  'busied',\n",
              "  'themselves',\n",
              "  'about',\n",
              "  'their',\n",
              "  'various',\n",
              "  'concerns',\n",
              "  'they',\n",
              "  'were',\n",
              "  'scrutinised',\n",
              "  'and',\n",
              "  'studied',\n",
              "  ',',\n",
              "  'perhaps',\n",
              "  'almost',\n",
              "  'as',\n",
              "  'narrowly',\n",
              "  'as',\n",
              "  'a',\n",
              "  'man',\n",
              "  'with',\n",
              "  'a',\n",
              "  'microscope',\n",
              "  'might',\n",
              "  'scrutinise',\n",
              "  'the',\n",
              "  'transient',\n",
              "  'creatures',\n",
              "  'that',\n",
              "  'swarm',\n",
              "  'and',\n",
              "  'multiply',\n",
              "  'in',\n",
              "  'a',\n",
              "  'drop',\n",
              "  'of',\n",
              "  'water',\n",
              "  '.'],\n",
              " ['What', 'was', 'watching', 'humanity', '?'],\n",
              " 'martians')"
            ]
          },
          "metadata": {
            "tags": []
          },
          "execution_count": 28
        }
      ]
    },
    {
      "cell_type": "code",
      "metadata": {
        "id": "JpmDakJs2ooO",
        "colab_type": "code",
        "colab": {}
      },
      "source": [
        ""
      ],
      "execution_count": 0,
      "outputs": []
    }
  ]
}